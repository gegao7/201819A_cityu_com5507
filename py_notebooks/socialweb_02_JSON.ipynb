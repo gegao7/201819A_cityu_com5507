{
 "cells": [
  {
   "cell_type": "markdown",
   "metadata": {},
   "source": [
    "\n",
    "# Mining the social web \n",
    "## Workout 2. Understanding JSON\n",
    "\n",
    "- CityU COM5507 201819A - Unit 2: Web data collection\n",
    "- 24 Oct 2018, Week 8: Mining the social web - data formats \n",
    "\n",
    "\n",
    "- Course Instructor: [Dr. Xinzhi Zhang](www.drxinzhizhang.com)  (JOUR, Hong Kong Baptist University) \n",
    "  - xzzhang2@gmail.com\n",
    "\n",
    "\n",
    "- The codes in this notebook are modified from various sources. All codes are for educational purposes only and released under the CC1.0. "
   ]
  },
  {
   "cell_type": "markdown",
   "metadata": {},
   "source": [
    "## JSON: a data type, which looks like..."
   ]
  },
  {
   "cell_type": "code",
   "execution_count": null,
   "metadata": {
    "collapsed": true
   },
   "outputs": [],
   "source": [
    "# JSON represents data as nested “lists” and “dictionaries”"
   ]
  },
  {
   "cell_type": "code",
   "execution_count": 1,
   "metadata": {
    "collapsed": true
   },
   "outputs": [],
   "source": [
    "import json"
   ]
  },
  {
   "cell_type": "code",
   "execution_count": 2,
   "metadata": {
    "collapsed": true
   },
   "outputs": [],
   "source": [
    "# json stored as a dict\n",
    "\n",
    "data = '''\n",
    "{\n",
    "  \"name\" : \"Chuck\",\n",
    "  \"phone\" : {\n",
    "    \"type\" : \"intl\",\n",
    "    \"number\" : \"+1 734 303 4456\"\n",
    "   },\n",
    "   \"email\" : {\n",
    "     \"hide\" : \"yes\"\n",
    "   }\n",
    "}\n",
    "'''\n"
   ]
  },
  {
   "cell_type": "code",
   "execution_count": 14,
   "metadata": {},
   "outputs": [
    {
     "ename": "TypeError",
     "evalue": "list indices must be integers or slices, not str",
     "output_type": "error",
     "traceback": [
      "\u001b[0;31m---------------------------------------------------------------------------\u001b[0m",
      "\u001b[0;31mTypeError\u001b[0m                                 Traceback (most recent call last)",
      "\u001b[0;32m<ipython-input-14-a04ef8c68e54>\u001b[0m in \u001b[0;36m<module>\u001b[0;34m()\u001b[0m\n\u001b[1;32m      1\u001b[0m \u001b[0minfo\u001b[0m \u001b[0;34m=\u001b[0m \u001b[0mjson\u001b[0m\u001b[0;34m.\u001b[0m\u001b[0mloads\u001b[0m\u001b[0;34m(\u001b[0m\u001b[0mdata\u001b[0m\u001b[0;34m)\u001b[0m\u001b[0;34m\u001b[0m\u001b[0m\n\u001b[0;32m----> 2\u001b[0;31m \u001b[0mprint\u001b[0m\u001b[0;34m(\u001b[0m\u001b[0;34m'Name:'\u001b[0m\u001b[0;34m,\u001b[0m \u001b[0minfo\u001b[0m\u001b[0;34m[\u001b[0m\u001b[0;34m\"name\"\u001b[0m\u001b[0;34m]\u001b[0m\u001b[0;34m)\u001b[0m\u001b[0;34m\u001b[0m\u001b[0m\n\u001b[0m\u001b[1;32m      3\u001b[0m \u001b[0mprint\u001b[0m\u001b[0;34m(\u001b[0m\u001b[0;34m'Hide:'\u001b[0m\u001b[0;34m,\u001b[0m \u001b[0minfo\u001b[0m\u001b[0;34m[\u001b[0m\u001b[0;34m\"email\"\u001b[0m\u001b[0;34m]\u001b[0m\u001b[0;34m[\u001b[0m\u001b[0;34m\"hide\"\u001b[0m\u001b[0;34m]\u001b[0m\u001b[0;34m)\u001b[0m\u001b[0;34m\u001b[0m\u001b[0m\n",
      "\u001b[0;31mTypeError\u001b[0m: list indices must be integers or slices, not str"
     ]
    }
   ],
   "source": [
    "info = json.loads(data)\n",
    "print('Name:', info[\"name\"])\n",
    "print('Hide:', info[\"email\"][\"hide\"])"
   ]
  },
  {
   "cell_type": "code",
   "execution_count": 5,
   "metadata": {
    "collapsed": true
   },
   "outputs": [],
   "source": [
    "# json stored as a list (dict nested within it)\n",
    "\n",
    "data = '''\n",
    "[\n",
    "  { \"id\" : \"001\",\n",
    "    \"x\" : \"2\",\n",
    "    \"name\" : \"Chuck\"\n",
    "  } ,\n",
    "  { \"id\" : \"009\",\n",
    "    \"x\" : \"7\",\n",
    "    \"name\" : \"Chuck\"\n",
    "  }\n",
    "]\n",
    "'''"
   ]
  },
  {
   "cell_type": "code",
   "execution_count": 6,
   "metadata": {},
   "outputs": [
    {
     "name": "stdout",
     "output_type": "stream",
     "text": [
      "User count: 2\n",
      "Name Chuck\n",
      "Id 001\n",
      "Attribute 2\n",
      "Name Chuck\n",
      "Id 009\n",
      "Attribute 7\n"
     ]
    }
   ],
   "source": [
    "info = json.loads(data)\n",
    "print('User count:', len(info))\n",
    "\n",
    "for item in info:\n",
    "    print('Name', item['name'])\n",
    "    print('Id', item['id'])\n",
    "    print('Attribute', item['x'])"
   ]
  },
  {
   "cell_type": "markdown",
   "metadata": {},
   "source": [
    "## JSON: a single file, from a real example"
   ]
  },
  {
   "cell_type": "code",
   "execution_count": null,
   "metadata": {
    "collapsed": true
   },
   "outputs": [],
   "source": [
    "# for single file: 20180101a"
   ]
  },
  {
   "cell_type": "code",
   "execution_count": 7,
   "metadata": {},
   "outputs": [
    {
     "name": "stdout",
     "output_type": "stream",
     "text": [
      "{'created_at': 'Mon Jan 01 00:28:53 +0000 2018', 'id': 947625642291376128, 'id_str': '947625642291376128', 'text': 'Why does data journalist @maloym support @latguild? “I want the Los Angeles Times to be a newspaper where journalis… https://t.co/yDUAJtAqxr', 'display_text_range': [0, 140], 'source': '<a href=\"http://twitter.com/download/iphone\" rel=\"nofollow\">Twitter for iPhone</a>', 'truncated': True, 'in_reply_to_status_id': 947554925927587841, 'in_reply_to_status_id_str': '947554925927587841', 'in_reply_to_user_id': 859504635773464576, 'in_reply_to_user_id_str': '859504635773464576', 'in_reply_to_screen_name': 'latguild', 'user': {'id': 859504635773464576, 'id_str': '859504635773464576', 'name': 'L.A. Times Guild 🦅', 'screen_name': 'latguild', 'location': 'Los Angeles, CA', 'url': 'https://latguild.com', 'description': 'Our mission is to safeguard the future of the Los Angeles Times and its journalists.', 'translator_type': 'none', 'protected': False, 'verified': False, 'followers_count': 2865, 'friends_count': 1, 'listed_count': 33, 'favourites_count': 1071, 'statuses_count': 1349, 'created_at': 'Tue May 02 20:27:28 +0000 2017', 'utc_offset': None, 'time_zone': None, 'geo_enabled': False, 'lang': 'en', 'contributors_enabled': False, 'is_translator': False, 'profile_background_color': '000000', 'profile_background_image_url': 'http://abs.twimg.com/images/themes/theme1/bg.png', 'profile_background_image_url_https': 'https://abs.twimg.com/images/themes/theme1/bg.png', 'profile_background_tile': False, 'profile_link_color': 'FAC211', 'profile_sidebar_border_color': '000000', 'profile_sidebar_fill_color': '000000', 'profile_text_color': '000000', 'profile_use_background_image': False, 'profile_image_url': 'http://pbs.twimg.com/profile_images/915481799844798464/4XJ5A9oo_normal.jpg', 'profile_image_url_https': 'https://pbs.twimg.com/profile_images/915481799844798464/4XJ5A9oo_normal.jpg', 'profile_banner_url': 'https://pbs.twimg.com/profile_banners/859504635773464576/1507102712', 'default_profile': False, 'default_profile_image': False, 'following': None, 'follow_request_sent': None, 'notifications': None}, 'geo': None, 'coordinates': None, 'place': None, 'contributors': None, 'is_quote_status': False, 'extended_tweet': {'full_text': 'Why does data journalist @maloym support @latguild? “I want the Los Angeles Times to be a newspaper where journalists thrive and continue a long history of exceptional journalism.” https://t.co/5fVINtWn2Q', 'display_text_range': [0, 180], 'entities': {'hashtags': [], 'urls': [], 'user_mentions': [{'screen_name': 'maloym', 'name': 'Maloy Moore', 'id': 247293595, 'id_str': '247293595', 'indices': [25, 32]}, {'screen_name': 'latguild', 'name': 'L.A. Times Guild 🦅', 'id': 859504635773464576, 'id_str': '859504635773464576', 'indices': [41, 50]}], 'symbols': [], 'media': [{'id': 947625636423598080, 'id_str': '947625636423598080', 'indices': [181, 204], 'media_url': 'http://pbs.twimg.com/media/DSakft8VAAAvHjx.jpg', 'media_url_https': 'https://pbs.twimg.com/media/DSakft8VAAAvHjx.jpg', 'url': 'https://t.co/5fVINtWn2Q', 'display_url': 'pic.twitter.com/5fVINtWn2Q', 'expanded_url': 'https://twitter.com/latguild/status/947625642291376128/photo/1', 'type': 'photo', 'sizes': {'large': {'w': 1334, 'h': 1000, 'resize': 'fit'}, 'thumb': {'w': 150, 'h': 150, 'resize': 'crop'}, 'medium': {'w': 1200, 'h': 900, 'resize': 'fit'}, 'small': {'w': 680, 'h': 510, 'resize': 'fit'}}}]}, 'extended_entities': {'media': [{'id': 947625636423598080, 'id_str': '947625636423598080', 'indices': [181, 204], 'media_url': 'http://pbs.twimg.com/media/DSakft8VAAAvHjx.jpg', 'media_url_https': 'https://pbs.twimg.com/media/DSakft8VAAAvHjx.jpg', 'url': 'https://t.co/5fVINtWn2Q', 'display_url': 'pic.twitter.com/5fVINtWn2Q', 'expanded_url': 'https://twitter.com/latguild/status/947625642291376128/photo/1', 'type': 'photo', 'sizes': {'large': {'w': 1334, 'h': 1000, 'resize': 'fit'}, 'thumb': {'w': 150, 'h': 150, 'resize': 'crop'}, 'medium': {'w': 1200, 'h': 900, 'resize': 'fit'}, 'small': {'w': 680, 'h': 510, 'resize': 'fit'}}}]}}, 'quote_count': 0, 'reply_count': 0, 'retweet_count': 0, 'favorite_count': 0, 'entities': {'hashtags': [], 'urls': [{'url': 'https://t.co/yDUAJtAqxr', 'expanded_url': 'https://twitter.com/i/web/status/947625642291376128', 'display_url': 'twitter.com/i/web/status/9…', 'indices': [117, 140]}], 'user_mentions': [{'screen_name': 'maloym', 'name': 'Maloy Moore', 'id': 247293595, 'id_str': '247293595', 'indices': [25, 32]}, {'screen_name': 'latguild', 'name': 'L.A. Times Guild 🦅', 'id': 859504635773464576, 'id_str': '859504635773464576', 'indices': [41, 50]}], 'symbols': []}, 'favorited': False, 'retweeted': False, 'possibly_sensitive': False, 'filter_level': 'low', 'lang': 'en', 'timestamp_ms': '1514766533812'}\n"
     ]
    }
   ],
   "source": [
    "with open('20180101a.json') as json_data:\n",
    "    tweet = json.load(json_data)\n",
    "    print(tweet)"
   ]
  },
  {
   "cell_type": "code",
   "execution_count": 8,
   "metadata": {},
   "outputs": [
    {
     "name": "stdout",
     "output_type": "stream",
     "text": [
      "30\n"
     ]
    }
   ],
   "source": [
    "print(len(tweet))"
   ]
  },
  {
   "cell_type": "code",
   "execution_count": 9,
   "metadata": {},
   "outputs": [
    {
     "name": "stdout",
     "output_type": "stream",
     "text": [
      "Mon Jan 01 00:28:53 +0000 2018\n"
     ]
    }
   ],
   "source": [
    "print(tweet[\"created_at\"])"
   ]
  },
  {
   "cell_type": "code",
   "execution_count": 10,
   "metadata": {},
   "outputs": [
    {
     "name": "stdout",
     "output_type": "stream",
     "text": [
      "Why does data journalist @maloym support @latguild? “I want the Los Angeles Times to be a newspaper where journalis… https://t.co/yDUAJtAqxr\n"
     ]
    }
   ],
   "source": [
    "print(tweet[\"text\"]) "
   ]
  },
  {
   "cell_type": "code",
   "execution_count": 11,
   "metadata": {},
   "outputs": [
    {
     "ename": "KeyError",
     "evalue": "'url'",
     "output_type": "error",
     "traceback": [
      "\u001b[0;31m---------------------------------------------------------------------------\u001b[0m",
      "\u001b[0;31mKeyError\u001b[0m                                  Traceback (most recent call last)",
      "\u001b[0;32m<ipython-input-11-559187be1f62>\u001b[0m in \u001b[0;36m<module>\u001b[0;34m()\u001b[0m\n\u001b[0;32m----> 1\u001b[0;31m \u001b[0mprint\u001b[0m\u001b[0;34m(\u001b[0m\u001b[0mtweet\u001b[0m\u001b[0;34m[\u001b[0m\u001b[0;34m\"url\"\u001b[0m\u001b[0;34m]\u001b[0m\u001b[0;34m)\u001b[0m\u001b[0;34m\u001b[0m\u001b[0m\n\u001b[0m\u001b[1;32m      2\u001b[0m \u001b[0;31m# what happened?\u001b[0m\u001b[0;34m\u001b[0m\u001b[0;34m\u001b[0m\u001b[0m\n",
      "\u001b[0;31mKeyError\u001b[0m: 'url'"
     ]
    }
   ],
   "source": [
    "print(tweet[\"url\"]) \n",
    "# what happened?  "
   ]
  },
  {
   "cell_type": "markdown",
   "metadata": {},
   "source": [
    "![Twitter JSON cheat sheet](JSON_cheat_sheet_raffi-krikorian-map-of-a-tweet.png)"
   ]
  },
  {
   "cell_type": "code",
   "execution_count": 15,
   "metadata": {},
   "outputs": [
    {
     "name": "stdout",
     "output_type": "stream",
     "text": [
      "https://latguild.com\n"
     ]
    }
   ],
   "source": [
    "print(tweet[\"user\"][\"url\"]) "
   ]
  },
  {
   "cell_type": "code",
   "execution_count": 16,
   "metadata": {},
   "outputs": [
    {
     "name": "stdout",
     "output_type": "stream",
     "text": [
      "latguild\n"
     ]
    }
   ],
   "source": [
    "print(tweet[\"user\"][\"screen_name\"])"
   ]
  },
  {
   "cell_type": "code",
   "execution_count": 17,
   "metadata": {},
   "outputs": [
    {
     "name": "stdout",
     "output_type": "stream",
     "text": [
      "Our mission is to safeguard the future of the Los Angeles Times and its journalists.\n"
     ]
    }
   ],
   "source": [
    "print(tweet[\"user\"][\"description\"])"
   ]
  },
  {
   "cell_type": "code",
   "execution_count": null,
   "metadata": {
    "collapsed": true
   },
   "outputs": [],
   "source": []
  },
  {
   "cell_type": "markdown",
   "metadata": {},
   "source": [
    "## Digging out more fields of a Tweet"
   ]
  },
  {
   "cell_type": "code",
   "execution_count": 18,
   "metadata": {},
   "outputs": [
    {
     "name": "stdout",
     "output_type": "stream",
     "text": [
      "Mon Jan 01 00:28:53 +0000 2018\n"
     ]
    }
   ],
   "source": [
    "# a more \"debugging\" method \n",
    "\n",
    "if 'created_at' in tweet:\n",
    "    if tweet['created_at'] is not None:\n",
    "        timestamp = tweet['created_at']\n",
    "    else:\n",
    "        timestamp = \"Nonetimestamp\"\n",
    "else:\n",
    "    timestamp = \"Notimestamp\"\n",
    "\n",
    "print(timestamp)"
   ]
  },
  {
   "cell_type": "code",
   "execution_count": 21,
   "metadata": {},
   "outputs": [
    {
     "name": "stdout",
     "output_type": "stream",
     "text": [
      "2865\n"
     ]
    }
   ],
   "source": [
    "# the number of followers\n",
    "if 'followers_count' in tweet['user']:\n",
    "    if tweet['user']['followers_count'] is not None:\n",
    "        nfollowers = tweet['user']['followers_count']\n",
    "    else:\n",
    "        nfollowers = \"Nonefollowers\"\n",
    "else:\n",
    "    nfollowers = \"Nofollowers\"\n",
    "\n",
    "print(nfollowers)"
   ]
  },
  {
   "cell_type": "markdown",
   "metadata": {},
   "source": [
    "## Challenges:\n",
    "- try to dig out all the possible fields of this tweet, and store the data in a structured format using pandas. \n",
    "- try to combine all the tweets stored in the folder [com5507_json_ddj20180131], and store the data in a structured format using pandas. (hint: first, you may need a loop to \"append\" the files into one. "
   ]
  },
  {
   "cell_type": "code",
   "execution_count": null,
   "metadata": {
    "collapsed": true
   },
   "outputs": [],
   "source": []
  },
  {
   "cell_type": "code",
   "execution_count": null,
   "metadata": {
    "collapsed": true
   },
   "outputs": [],
   "source": []
  }
 ],
 "metadata": {
  "kernelspec": {
   "display_name": "Python 3",
   "language": "python",
   "name": "python3"
  },
  "language_info": {
   "codemirror_mode": {
    "name": "ipython",
    "version": 3
   },
   "file_extension": ".py",
   "mimetype": "text/x-python",
   "name": "python",
   "nbconvert_exporter": "python",
   "pygments_lexer": "ipython3",
   "version": "3.6.1"
  },
  "toc": {
   "nav_menu": {},
   "number_sections": true,
   "sideBar": true,
   "skip_h1_title": false,
   "title_cell": "Table of Contents",
   "title_sidebar": "Contents",
   "toc_cell": false,
   "toc_position": {},
   "toc_section_display": true,
   "toc_window_display": false
  }
 },
 "nbformat": 4,
 "nbformat_minor": 2
}
