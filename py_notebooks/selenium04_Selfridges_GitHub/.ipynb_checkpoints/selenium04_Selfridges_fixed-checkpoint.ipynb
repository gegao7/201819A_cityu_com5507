{
 "cells": [
  {
   "cell_type": "markdown",
   "metadata": {},
   "source": [
    "\n",
    "# Topics in web data collection: Selenium \n",
    "## Workout 3. Handbags (a.k.a. 包治百病) \n",
    "\n",
    "- CityU COM5507 201819A - Unit 2: Web data collection\n",
    "- 31 Oct 2018, Week 8: Topics in web data collection \n",
    "\n",
    "\n",
    "- Course Instructor: [Dr. Xinzhi Zhang](www.drxinzhizhang.com)  (JOUR, Hong Kong Baptist University) \n",
    "  - xzzhang2@gmail.com\n",
    "\n",
    "- Acknowledgement: The codes in the notebook are referred from https://towardsdatascience.com/web-scraping-using-selenium-python-8a60f4cf40ab. He Can (MSc in ITM from Hong Kong Baptist University) participated in the debugging process. All codes are for educational purposes only and released under the MIT license. "
   ]
  },
  {
   "cell_type": "markdown",
   "metadata": {},
   "source": [
    "## Note\n",
    "1. It may not fully reveal the beauty of Selenium; but it demonstrates the utility of another approach to locate the proper information using **xpath**"
   ]
  },
  {
   "cell_type": "code",
   "execution_count": null,
   "metadata": {
    "collapsed": true
   },
   "outputs": [],
   "source": [
    "# page to be scrape: http://www.selfridges.com/GB/en/cat/womens/bags/on_sale/?browsing_country=GB&currency=GBP&fh_sort_by=%24bestseller%7CASC&language=en&ppp=132"
   ]
  },
  {
   "cell_type": "code",
   "execution_count": null,
   "metadata": {
    "collapsed": true
   },
   "outputs": [],
   "source": [
    "import unittest\n",
    "from selenium import webdriver\n",
    "from selenium.webdriver.common.keys import Keys\n",
    "import pandas as pd \n",
    "\n",
    "driver = webdriver.Firefox() # please download the Firefox driver, and store it in the same folder of this code \n",
    "url = 'http://www.selfridges.com/GB/en/cat/womens/bags/on_sale/?browsing_country=GB&currency=GBP&fh_sort_by=%24bestseller%7CASC&language=en&ppp=132'\n",
    "driver.get(url)\n",
    "#driver.maximize_window()\n",
    "driver.implicitly_wait(2)\n",
    "\n",
    "bagcontainer = pd.DataFrame(columns = ['name','desc','oriprice', 'disprice']) \n",
    "result = driver.find_elements_by_xpath('//*[@id=\"searchTerm\"]/div[2]/div/div') \n",
    "    # The \"outer\" table： //*[@id=\"searchTerm\"]/div[2]/div                                \n",
    "    # The first bag： //*[@id=\"searchTerm\"]/div[2]/div/div[1]\n",
    "\n",
    "for x in range(1,len(result)-3):\n",
    "    name_element = driver.find_elements_by_xpath('//*[@id=\"searchTerm\"]/div[2]/div/div['+str(x)+']/div/a[1]')[0]\n",
    "    name = name_element.text \n",
    "    \n",
    "    desc_element = driver.find_elements_by_xpath('//*[@id=\"searchTerm\"]/div[2]/div/div['+str(x)+']/div/a[2]')[0]\n",
    "    desc = desc_element.text \n",
    "\n",
    "    oriprice_element = driver.find_elements_by_xpath('//*[@id=\"searchTerm\"]/div[2]/div/div['+str(x)+']/div/div[2]/ul/li[1]/p/span')[0]\n",
    "    oriprice = oriprice_element.text\n",
    "\n",
    "    disprice_element = driver.find_elements_by_xpath('//*[@id=\"searchTerm\"]/div[2]/div/div['+str(x)+']/div/div[2]/ul/li[2]/p/span')[0]\n",
    "    disprice = disprice_element.text\n",
    "\n",
    "    bagcontainer.loc[len(bagcontainer)] = [name,desc,oriprice,disprice]\n",
    "\n",
    "driver.close() \n"
   ]
  },
  {
   "cell_type": "code",
   "execution_count": null,
   "metadata": {},
   "outputs": [],
   "source": [
    "bagcontainer"
   ]
  },
  {
   "cell_type": "code",
   "execution_count": null,
   "metadata": {
    "collapsed": true
   },
   "outputs": [],
   "source": [
    "bagcontainer.to_csv('bags.csv')"
   ]
  },
  {
   "cell_type": "code",
   "execution_count": null,
   "metadata": {
    "collapsed": true
   },
   "outputs": [],
   "source": []
  }
 ],
 "metadata": {
  "kernelspec": {
   "display_name": "Python 3",
   "language": "python",
   "name": "python3"
  },
  "language_info": {
   "codemirror_mode": {
    "name": "ipython",
    "version": 3
   },
   "file_extension": ".py",
   "mimetype": "text/x-python",
   "name": "python",
   "nbconvert_exporter": "python",
   "pygments_lexer": "ipython3",
   "version": "3.6.1"
  },
  "toc": {
   "nav_menu": {},
   "number_sections": true,
   "sideBar": true,
   "skip_h1_title": false,
   "title_cell": "Table of Contents",
   "title_sidebar": "Contents",
   "toc_cell": false,
   "toc_position": {},
   "toc_section_display": true,
   "toc_window_display": false
  }
 },
 "nbformat": 4,
 "nbformat_minor": 2
}
