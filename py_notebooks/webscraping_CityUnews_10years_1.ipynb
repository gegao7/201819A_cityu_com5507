{
 "cells": [
  {
   "cell_type": "markdown",
   "metadata": {},
   "source": [
    "\n",
    "# Web scraping\n",
    "## Workout 2. Scraping a single webpage\n",
    "\n",
    "- CityU COM5507 201819A - Unit 2: Web data collection\n",
    "- 3 Oct 2018, Week 5: web scraping ep 1\n",
    "- the code is updated on 5 Oct 2018 \n",
    "\n",
    "\n",
    "- Course Instructor: [Dr. Xinzhi Zhang](www.drxinzhizhang.com)  (JOUR, Hong Kong Baptist University) \n",
    "  - xzzhang2@gmail.com\n",
    "\n",
    "\n",
    "- The codes in this notebook are modified from various sources. All codes are for educational purposes only and released under the CC1.0. "
   ]
  },
  {
   "cell_type": "markdown",
   "metadata": {
    "collapsed": true
   },
   "source": [
    "## once upon a time in CityU - the year of 2008 "
   ]
  },
  {
   "cell_type": "code",
   "execution_count": null,
   "metadata": {
    "collapsed": true
   },
   "outputs": [],
   "source": [
    "import requests \n",
    "import bs4 as bs \n",
    "\n",
    "from time import sleep\n",
    "from time import time\n",
    "from random import randint\n",
    "\n",
    "import pandas as pd \n"
   ]
  },
  {
   "cell_type": "code",
   "execution_count": null,
   "metadata": {},
   "outputs": [],
   "source": [
    "# Redeclaring the lists to store data in \n",
    "\n",
    "titles = []\n",
    "urls = []\n",
    "dates = []\n",
    "\n",
    "headers = {\"Accept-Language\": \"en-US, en;q=0.5\"}\n",
    "\n",
    "# Make a get request\n",
    "source = requests.get(\"http://www.cityu.edu.hk/com/News_News.aspx?year=2008\", headers = headers) \n",
    "\n",
    "# Pause the loop\n",
    "sleep(randint(1,3))\n",
    "\n",
    "# Parse the content of the request with BeautifulSoup\n",
    "page_html = bs.BeautifulSoup(source.content, 'html.parser')\n",
    "\n",
    "# Select all the 'containers' (a table row) from a single page (one year)\n",
    "# this is for a single page \n",
    "\n",
    "news_container = page_html.find('table', class_ = 'cityu-width-full')  # Line21 is revised \n",
    "#print(news_container)\n",
    "\n",
    "for title in news_container.find_all('a'): \n",
    "    print(title)\n",
    "    titles.append(title.text.strip()) \n",
    "\n",
    "for url in news_container.find_all('a'): \n",
    "    print(url)\n",
    "    urls.append(url.get('href')) \n",
    "\n",
    "for row in news_container.find_all('tr'):\n",
    "    date = row.select('div:nth-of-type(2)')\n",
    "    print(date)\n",
    "    dates.append(date)\n"
   ]
  },
  {
   "cell_type": "code",
   "execution_count": null,
   "metadata": {},
   "outputs": [],
   "source": [
    "print(len(titles))\n",
    "print(len(urls))\n",
    "print(len(dates))"
   ]
  },
  {
   "cell_type": "code",
   "execution_count": null,
   "metadata": {
    "collapsed": true
   },
   "outputs": [],
   "source": [
    "# create a dict first\n",
    "\n",
    "data2008 = {\n",
    "    'titles': titles,\n",
    "    'urls': urls,\n",
    "    'dates': dates\n",
    "}"
   ]
  },
  {
   "cell_type": "code",
   "execution_count": null,
   "metadata": {},
   "outputs": [],
   "source": [
    "# create a Pandas frame from a dict \n",
    "# guideline: https://pandas.pydata.org/pandas-docs/stable/generated/pandas.DataFrame.from_dict.html\n",
    "\n",
    "pd_CityUnews2008 = pd.DataFrame.from_dict(data2008, orient ='index').transpose()\n",
    "print(pd_CityUnews2008.info())"
   ]
  },
  {
   "cell_type": "code",
   "execution_count": null,
   "metadata": {},
   "outputs": [],
   "source": [
    "pd_CityUnews2008"
   ]
  },
  {
   "cell_type": "code",
   "execution_count": null,
   "metadata": {
    "collapsed": true
   },
   "outputs": [],
   "source": [
    "pd_CityUnews2008.to_csv('pd_CityUnews2008.csv')"
   ]
  },
  {
   "cell_type": "code",
   "execution_count": null,
   "metadata": {
    "collapsed": true
   },
   "outputs": [],
   "source": []
  }
 ],
 "metadata": {
  "kernelspec": {
   "display_name": "Python 3",
   "language": "python",
   "name": "python3"
  },
  "language_info": {
   "codemirror_mode": {
    "name": "ipython",
    "version": 3
   },
   "file_extension": ".py",
   "mimetype": "text/x-python",
   "name": "python",
   "nbconvert_exporter": "python",
   "pygments_lexer": "ipython3",
   "version": "3.6.1"
  },
  "toc": {
   "nav_menu": {},
   "number_sections": true,
   "sideBar": true,
   "skip_h1_title": false,
   "title_cell": "Table of Contents",
   "title_sidebar": "Contents",
   "toc_cell": false,
   "toc_position": {},
   "toc_section_display": true,
   "toc_window_display": false
  }
 },
 "nbformat": 4,
 "nbformat_minor": 2
}
